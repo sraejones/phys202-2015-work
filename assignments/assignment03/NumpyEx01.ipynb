{
 "cells": [
  {
   "cell_type": "markdown",
   "metadata": {
    "nbgrader": {}
   },
   "source": [
    "# Numpy Exercise 1"
   ]
  },
  {
   "cell_type": "markdown",
   "metadata": {
    "nbgrader": {}
   },
   "source": [
    "## Imports"
   ]
  },
  {
   "cell_type": "code",
   "execution_count": 1,
   "metadata": {
    "collapsed": false,
    "nbgrader": {}
   },
   "outputs": [],
   "source": [
    "import numpy as np\n",
    "%matplotlib inline\n",
    "import matplotlib.pyplot as plt\n",
    "import seaborn as sns"
   ]
  },
  {
   "cell_type": "code",
   "execution_count": 2,
   "metadata": {
    "collapsed": false,
    "nbgrader": {}
   },
   "outputs": [
    {
     "name": "stdout",
     "output_type": "stream",
     "text": [
      "Downloading:  https://raw.githubusercontent.com/ellisonbg/misc/master/vizarray.py\n",
      "Using existing version:  github.ellisonbg.misc.vizarray\n"
     ]
    }
   ],
   "source": [
    "import antipackage\n",
    "import github.ellisonbg.misc.vizarray as va"
   ]
  },
  {
   "cell_type": "markdown",
   "metadata": {
    "nbgrader": {}
   },
   "source": [
    "## Checkerboard"
   ]
  },
  {
   "cell_type": "markdown",
   "metadata": {
    "nbgrader": {}
   },
   "source": [
    "Write a Python function that creates a square `(size,size)` 2d Numpy array with the values `0.0` and `1.0`:\n",
    "\n",
    "* Your function should work for both odd and even `size`.\n",
    "* The `0,0` element should be `1.0`.\n",
    "* The `dtype` should be `float`."
   ]
  },
  {
   "cell_type": "code",
   "execution_count": 3,
   "metadata": {
    "collapsed": true
   },
   "outputs": [],
   "source": [
    "va.enable()"
   ]
  },
  {
   "cell_type": "code",
   "execution_count": 14,
   "metadata": {
    "collapsed": false,
    "nbgrader": {
     "checksum": "752eb79a174f018a88efdcf68249ecf6",
     "solution": true
    },
    "scrolled": true
   },
   "outputs": [
    {
     "name": "stdout",
     "output_type": "stream",
     "text": [
      "[[0 1 0 1 0 1 0 1 0 1]\n",
      " [1 0 1 0 1 0 1 0 1 0]\n",
      " [0 1 0 1 0 1 0 1 0 1]\n",
      " [1 0 1 0 1 0 1 0 1 0]\n",
      " [0 1 0 1 0 1 0 1 0 1]\n",
      " [1 0 1 0 1 0 1 0 1 0]\n",
      " [0 1 0 1 0 1 0 1 0 1]\n",
      " [1 0 1 0 1 0 1 0 1 0]\n",
      " [0 1 0 1 0 1 0 1 0 1]\n",
      " [1 0 1 0 1 0 1 0 1 0]]\n"
     ]
    }
   ],
   "source": [
    "def checkerboard(size):\n",
    "    # if size is even\n",
    "    if size %2 == 0:\n",
    "        # if the row is odd produce the pattern 0,1 then repeate half as many times as size\n",
    "        odd = (size/2) * [0,1]\n",
    "        # if the row is even produce the pattern 1,0 then repeate half as many times as size\n",
    "        even = (size/2) * [1,0]\n",
    "        #stack the odd and even rows on top of each other and put in to array that is (size,size)\n",
    "        board = np.row_stack((size/2)/1*(odd, even))\n",
    "    \n",
    "    # if size is odd and 5 or larger\n",
    "    elif size >4 and size %2 == 1:\n",
    "        # if the row is odd produce the pattern 0,1 then repeate half as many times as size - 1 than add a 0 at the end \n",
    "        odd = ((size/2)) * [0,1] +[0]\n",
    "        # if the row is even produce the pattern 1,0 then repeate half as many times as size - 1 than add a 1 at the end\n",
    "        even = ((size/2)) * [1,0] + [1]\n",
    "        #stack the odd and even rows on top of each other and put in to array that is (size-1, size)\n",
    "        x_board = np.row_stack((size/2)/1*(odd, even))\n",
    "        # if the row is odd produce the pattern 0,1 then repeate half as many times as size - 1 than add a 0 at the end \n",
    "        x_odd = ((size/2)) * [0,1] +[0]\n",
    "         #stack the board x_odd row producing an array that is (size,size)\n",
    "        board = np.row_stack((size/4)/1*(x_board, x_odd))\n",
    "    elif size == 1:\n",
    "        board = [0]\n",
    "        \n",
    "    elif size == 3:\n",
    "        odd = [0,1,0] \n",
    "        even = [1,0,1]\n",
    "        board = np.row_stack((size/3)/1*(odd, even, odd))\n",
    "    return board       \n",
    "\n",
    "print checkerboard(10)\n"
   ]
  },
  {
   "cell_type": "code",
   "execution_count": 15,
   "metadata": {
    "collapsed": false
   },
   "outputs": [
    {
     "data": {
      "text/html": [
       "<style type=\"text/css\">table.blockgrid {border: none;} .blockgrid tr {border: none;} .blockgrid td {padding: 0px;} #blocksa00f30ab-a26e-4dc8-b447-89cfddc3ff70 td {border: 1px solid white;}</style><table id=\"blocksa00f30ab-a26e-4dc8-b447-89cfddc3ff70\" class=\"blockgrid\"><tbody><tr><td title=\"Index: [0, 0]&#10;Color: (247, 251, 255)\" style=\"width: 30px; height: 30px;background-color: rgb(247, 251, 255);\"></td><td title=\"Index: [0, 1]&#10;Color: (8, 48, 107)\" style=\"width: 30px; height: 30px;background-color: rgb(8, 48, 107);\"></td><td title=\"Index: [0, 2]&#10;Color: (247, 251, 255)\" style=\"width: 30px; height: 30px;background-color: rgb(247, 251, 255);\"></td><td title=\"Index: [0, 3]&#10;Color: (8, 48, 107)\" style=\"width: 30px; height: 30px;background-color: rgb(8, 48, 107);\"></td><td title=\"Index: [0, 4]&#10;Color: (247, 251, 255)\" style=\"width: 30px; height: 30px;background-color: rgb(247, 251, 255);\"></td><td title=\"Index: [0, 5]&#10;Color: (8, 48, 107)\" style=\"width: 30px; height: 30px;background-color: rgb(8, 48, 107);\"></td><td title=\"Index: [0, 6]&#10;Color: (247, 251, 255)\" style=\"width: 30px; height: 30px;background-color: rgb(247, 251, 255);\"></td><td title=\"Index: [0, 7]&#10;Color: (8, 48, 107)\" style=\"width: 30px; height: 30px;background-color: rgb(8, 48, 107);\"></td><td title=\"Index: [0, 8]&#10;Color: (247, 251, 255)\" style=\"width: 30px; height: 30px;background-color: rgb(247, 251, 255);\"></td><td title=\"Index: [0, 9]&#10;Color: (8, 48, 107)\" style=\"width: 30px; height: 30px;background-color: rgb(8, 48, 107);\"></td></tr><tr><td title=\"Index: [1, 0]&#10;Color: (8, 48, 107)\" style=\"width: 30px; height: 30px;background-color: rgb(8, 48, 107);\"></td><td title=\"Index: [1, 1]&#10;Color: (247, 251, 255)\" style=\"width: 30px; height: 30px;background-color: rgb(247, 251, 255);\"></td><td title=\"Index: [1, 2]&#10;Color: (8, 48, 107)\" style=\"width: 30px; height: 30px;background-color: rgb(8, 48, 107);\"></td><td title=\"Index: [1, 3]&#10;Color: (247, 251, 255)\" style=\"width: 30px; height: 30px;background-color: rgb(247, 251, 255);\"></td><td title=\"Index: [1, 4]&#10;Color: (8, 48, 107)\" style=\"width: 30px; height: 30px;background-color: rgb(8, 48, 107);\"></td><td title=\"Index: [1, 5]&#10;Color: (247, 251, 255)\" style=\"width: 30px; height: 30px;background-color: rgb(247, 251, 255);\"></td><td title=\"Index: [1, 6]&#10;Color: (8, 48, 107)\" style=\"width: 30px; height: 30px;background-color: rgb(8, 48, 107);\"></td><td title=\"Index: [1, 7]&#10;Color: (247, 251, 255)\" style=\"width: 30px; height: 30px;background-color: rgb(247, 251, 255);\"></td><td title=\"Index: [1, 8]&#10;Color: (8, 48, 107)\" style=\"width: 30px; height: 30px;background-color: rgb(8, 48, 107);\"></td><td title=\"Index: [1, 9]&#10;Color: (247, 251, 255)\" style=\"width: 30px; height: 30px;background-color: rgb(247, 251, 255);\"></td></tr><tr><td title=\"Index: [2, 0]&#10;Color: (247, 251, 255)\" style=\"width: 30px; height: 30px;background-color: rgb(247, 251, 255);\"></td><td title=\"Index: [2, 1]&#10;Color: (8, 48, 107)\" style=\"width: 30px; height: 30px;background-color: rgb(8, 48, 107);\"></td><td title=\"Index: [2, 2]&#10;Color: (247, 251, 255)\" style=\"width: 30px; height: 30px;background-color: rgb(247, 251, 255);\"></td><td title=\"Index: [2, 3]&#10;Color: (8, 48, 107)\" style=\"width: 30px; height: 30px;background-color: rgb(8, 48, 107);\"></td><td title=\"Index: [2, 4]&#10;Color: (247, 251, 255)\" style=\"width: 30px; height: 30px;background-color: rgb(247, 251, 255);\"></td><td title=\"Index: [2, 5]&#10;Color: (8, 48, 107)\" style=\"width: 30px; height: 30px;background-color: rgb(8, 48, 107);\"></td><td title=\"Index: [2, 6]&#10;Color: (247, 251, 255)\" style=\"width: 30px; height: 30px;background-color: rgb(247, 251, 255);\"></td><td title=\"Index: [2, 7]&#10;Color: (8, 48, 107)\" style=\"width: 30px; height: 30px;background-color: rgb(8, 48, 107);\"></td><td title=\"Index: [2, 8]&#10;Color: (247, 251, 255)\" style=\"width: 30px; height: 30px;background-color: rgb(247, 251, 255);\"></td><td title=\"Index: [2, 9]&#10;Color: (8, 48, 107)\" style=\"width: 30px; height: 30px;background-color: rgb(8, 48, 107);\"></td></tr><tr><td title=\"Index: [3, 0]&#10;Color: (8, 48, 107)\" style=\"width: 30px; height: 30px;background-color: rgb(8, 48, 107);\"></td><td title=\"Index: [3, 1]&#10;Color: (247, 251, 255)\" style=\"width: 30px; height: 30px;background-color: rgb(247, 251, 255);\"></td><td title=\"Index: [3, 2]&#10;Color: (8, 48, 107)\" style=\"width: 30px; height: 30px;background-color: rgb(8, 48, 107);\"></td><td title=\"Index: [3, 3]&#10;Color: (247, 251, 255)\" style=\"width: 30px; height: 30px;background-color: rgb(247, 251, 255);\"></td><td title=\"Index: [3, 4]&#10;Color: (8, 48, 107)\" style=\"width: 30px; height: 30px;background-color: rgb(8, 48, 107);\"></td><td title=\"Index: [3, 5]&#10;Color: (247, 251, 255)\" style=\"width: 30px; height: 30px;background-color: rgb(247, 251, 255);\"></td><td title=\"Index: [3, 6]&#10;Color: (8, 48, 107)\" style=\"width: 30px; height: 30px;background-color: rgb(8, 48, 107);\"></td><td title=\"Index: [3, 7]&#10;Color: (247, 251, 255)\" style=\"width: 30px; height: 30px;background-color: rgb(247, 251, 255);\"></td><td title=\"Index: [3, 8]&#10;Color: (8, 48, 107)\" style=\"width: 30px; height: 30px;background-color: rgb(8, 48, 107);\"></td><td title=\"Index: [3, 9]&#10;Color: (247, 251, 255)\" style=\"width: 30px; height: 30px;background-color: rgb(247, 251, 255);\"></td></tr><tr><td title=\"Index: [4, 0]&#10;Color: (247, 251, 255)\" style=\"width: 30px; height: 30px;background-color: rgb(247, 251, 255);\"></td><td title=\"Index: [4, 1]&#10;Color: (8, 48, 107)\" style=\"width: 30px; height: 30px;background-color: rgb(8, 48, 107);\"></td><td title=\"Index: [4, 2]&#10;Color: (247, 251, 255)\" style=\"width: 30px; height: 30px;background-color: rgb(247, 251, 255);\"></td><td title=\"Index: [4, 3]&#10;Color: (8, 48, 107)\" style=\"width: 30px; height: 30px;background-color: rgb(8, 48, 107);\"></td><td title=\"Index: [4, 4]&#10;Color: (247, 251, 255)\" style=\"width: 30px; height: 30px;background-color: rgb(247, 251, 255);\"></td><td title=\"Index: [4, 5]&#10;Color: (8, 48, 107)\" style=\"width: 30px; height: 30px;background-color: rgb(8, 48, 107);\"></td><td title=\"Index: [4, 6]&#10;Color: (247, 251, 255)\" style=\"width: 30px; height: 30px;background-color: rgb(247, 251, 255);\"></td><td title=\"Index: [4, 7]&#10;Color: (8, 48, 107)\" style=\"width: 30px; height: 30px;background-color: rgb(8, 48, 107);\"></td><td title=\"Index: [4, 8]&#10;Color: (247, 251, 255)\" style=\"width: 30px; height: 30px;background-color: rgb(247, 251, 255);\"></td><td title=\"Index: [4, 9]&#10;Color: (8, 48, 107)\" style=\"width: 30px; height: 30px;background-color: rgb(8, 48, 107);\"></td></tr><tr><td title=\"Index: [5, 0]&#10;Color: (8, 48, 107)\" style=\"width: 30px; height: 30px;background-color: rgb(8, 48, 107);\"></td><td title=\"Index: [5, 1]&#10;Color: (247, 251, 255)\" style=\"width: 30px; height: 30px;background-color: rgb(247, 251, 255);\"></td><td title=\"Index: [5, 2]&#10;Color: (8, 48, 107)\" style=\"width: 30px; height: 30px;background-color: rgb(8, 48, 107);\"></td><td title=\"Index: [5, 3]&#10;Color: (247, 251, 255)\" style=\"width: 30px; height: 30px;background-color: rgb(247, 251, 255);\"></td><td title=\"Index: [5, 4]&#10;Color: (8, 48, 107)\" style=\"width: 30px; height: 30px;background-color: rgb(8, 48, 107);\"></td><td title=\"Index: [5, 5]&#10;Color: (247, 251, 255)\" style=\"width: 30px; height: 30px;background-color: rgb(247, 251, 255);\"></td><td title=\"Index: [5, 6]&#10;Color: (8, 48, 107)\" style=\"width: 30px; height: 30px;background-color: rgb(8, 48, 107);\"></td><td title=\"Index: [5, 7]&#10;Color: (247, 251, 255)\" style=\"width: 30px; height: 30px;background-color: rgb(247, 251, 255);\"></td><td title=\"Index: [5, 8]&#10;Color: (8, 48, 107)\" style=\"width: 30px; height: 30px;background-color: rgb(8, 48, 107);\"></td><td title=\"Index: [5, 9]&#10;Color: (247, 251, 255)\" style=\"width: 30px; height: 30px;background-color: rgb(247, 251, 255);\"></td></tr><tr><td title=\"Index: [6, 0]&#10;Color: (247, 251, 255)\" style=\"width: 30px; height: 30px;background-color: rgb(247, 251, 255);\"></td><td title=\"Index: [6, 1]&#10;Color: (8, 48, 107)\" style=\"width: 30px; height: 30px;background-color: rgb(8, 48, 107);\"></td><td title=\"Index: [6, 2]&#10;Color: (247, 251, 255)\" style=\"width: 30px; height: 30px;background-color: rgb(247, 251, 255);\"></td><td title=\"Index: [6, 3]&#10;Color: (8, 48, 107)\" style=\"width: 30px; height: 30px;background-color: rgb(8, 48, 107);\"></td><td title=\"Index: [6, 4]&#10;Color: (247, 251, 255)\" style=\"width: 30px; height: 30px;background-color: rgb(247, 251, 255);\"></td><td title=\"Index: [6, 5]&#10;Color: (8, 48, 107)\" style=\"width: 30px; height: 30px;background-color: rgb(8, 48, 107);\"></td><td title=\"Index: [6, 6]&#10;Color: (247, 251, 255)\" style=\"width: 30px; height: 30px;background-color: rgb(247, 251, 255);\"></td><td title=\"Index: [6, 7]&#10;Color: (8, 48, 107)\" style=\"width: 30px; height: 30px;background-color: rgb(8, 48, 107);\"></td><td title=\"Index: [6, 8]&#10;Color: (247, 251, 255)\" style=\"width: 30px; height: 30px;background-color: rgb(247, 251, 255);\"></td><td title=\"Index: [6, 9]&#10;Color: (8, 48, 107)\" style=\"width: 30px; height: 30px;background-color: rgb(8, 48, 107);\"></td></tr><tr><td title=\"Index: [7, 0]&#10;Color: (8, 48, 107)\" style=\"width: 30px; height: 30px;background-color: rgb(8, 48, 107);\"></td><td title=\"Index: [7, 1]&#10;Color: (247, 251, 255)\" style=\"width: 30px; height: 30px;background-color: rgb(247, 251, 255);\"></td><td title=\"Index: [7, 2]&#10;Color: (8, 48, 107)\" style=\"width: 30px; height: 30px;background-color: rgb(8, 48, 107);\"></td><td title=\"Index: [7, 3]&#10;Color: (247, 251, 255)\" style=\"width: 30px; height: 30px;background-color: rgb(247, 251, 255);\"></td><td title=\"Index: [7, 4]&#10;Color: (8, 48, 107)\" style=\"width: 30px; height: 30px;background-color: rgb(8, 48, 107);\"></td><td title=\"Index: [7, 5]&#10;Color: (247, 251, 255)\" style=\"width: 30px; height: 30px;background-color: rgb(247, 251, 255);\"></td><td title=\"Index: [7, 6]&#10;Color: (8, 48, 107)\" style=\"width: 30px; height: 30px;background-color: rgb(8, 48, 107);\"></td><td title=\"Index: [7, 7]&#10;Color: (247, 251, 255)\" style=\"width: 30px; height: 30px;background-color: rgb(247, 251, 255);\"></td><td title=\"Index: [7, 8]&#10;Color: (8, 48, 107)\" style=\"width: 30px; height: 30px;background-color: rgb(8, 48, 107);\"></td><td title=\"Index: [7, 9]&#10;Color: (247, 251, 255)\" style=\"width: 30px; height: 30px;background-color: rgb(247, 251, 255);\"></td></tr><tr><td title=\"Index: [8, 0]&#10;Color: (247, 251, 255)\" style=\"width: 30px; height: 30px;background-color: rgb(247, 251, 255);\"></td><td title=\"Index: [8, 1]&#10;Color: (8, 48, 107)\" style=\"width: 30px; height: 30px;background-color: rgb(8, 48, 107);\"></td><td title=\"Index: [8, 2]&#10;Color: (247, 251, 255)\" style=\"width: 30px; height: 30px;background-color: rgb(247, 251, 255);\"></td><td title=\"Index: [8, 3]&#10;Color: (8, 48, 107)\" style=\"width: 30px; height: 30px;background-color: rgb(8, 48, 107);\"></td><td title=\"Index: [8, 4]&#10;Color: (247, 251, 255)\" style=\"width: 30px; height: 30px;background-color: rgb(247, 251, 255);\"></td><td title=\"Index: [8, 5]&#10;Color: (8, 48, 107)\" style=\"width: 30px; height: 30px;background-color: rgb(8, 48, 107);\"></td><td title=\"Index: [8, 6]&#10;Color: (247, 251, 255)\" style=\"width: 30px; height: 30px;background-color: rgb(247, 251, 255);\"></td><td title=\"Index: [8, 7]&#10;Color: (8, 48, 107)\" style=\"width: 30px; height: 30px;background-color: rgb(8, 48, 107);\"></td><td title=\"Index: [8, 8]&#10;Color: (247, 251, 255)\" style=\"width: 30px; height: 30px;background-color: rgb(247, 251, 255);\"></td><td title=\"Index: [8, 9]&#10;Color: (8, 48, 107)\" style=\"width: 30px; height: 30px;background-color: rgb(8, 48, 107);\"></td></tr><tr><td title=\"Index: [9, 0]&#10;Color: (8, 48, 107)\" style=\"width: 30px; height: 30px;background-color: rgb(8, 48, 107);\"></td><td title=\"Index: [9, 1]&#10;Color: (247, 251, 255)\" style=\"width: 30px; height: 30px;background-color: rgb(247, 251, 255);\"></td><td title=\"Index: [9, 2]&#10;Color: (8, 48, 107)\" style=\"width: 30px; height: 30px;background-color: rgb(8, 48, 107);\"></td><td title=\"Index: [9, 3]&#10;Color: (247, 251, 255)\" style=\"width: 30px; height: 30px;background-color: rgb(247, 251, 255);\"></td><td title=\"Index: [9, 4]&#10;Color: (8, 48, 107)\" style=\"width: 30px; height: 30px;background-color: rgb(8, 48, 107);\"></td><td title=\"Index: [9, 5]&#10;Color: (247, 251, 255)\" style=\"width: 30px; height: 30px;background-color: rgb(247, 251, 255);\"></td><td title=\"Index: [9, 6]&#10;Color: (8, 48, 107)\" style=\"width: 30px; height: 30px;background-color: rgb(8, 48, 107);\"></td><td title=\"Index: [9, 7]&#10;Color: (247, 251, 255)\" style=\"width: 30px; height: 30px;background-color: rgb(247, 251, 255);\"></td><td title=\"Index: [9, 8]&#10;Color: (8, 48, 107)\" style=\"width: 30px; height: 30px;background-color: rgb(8, 48, 107);\"></td><td title=\"Index: [9, 9]&#10;Color: (247, 251, 255)\" style=\"width: 30px; height: 30px;background-color: rgb(247, 251, 255);\"></td></tr></tbody></table>"
      ],
      "text/plain": [
       "<ipythonblocks.ipythonblocks.BlockGrid at 0x7fd1327d96d0>"
      ]
     },
     "execution_count": 15,
     "metadata": {},
     "output_type": "execute_result"
    }
   ],
   "source": [
    "va.vizarray(checkerboard(10)) "
   ]
  },
  {
   "cell_type": "code",
   "execution_count": 17,
   "metadata": {
    "collapsed": false,
    "deletable": false,
    "nbgrader": {
     "checksum": "a9259a1539798dd06c53d4699e5b89b7",
     "grade": true,
     "grade_id": "numpyex01a",
     "points": 6
    }
   },
   "outputs": [
    {
     "ename": "AssertionError",
     "evalue": "",
     "output_type": "error",
     "traceback": [
      "\u001b[1;31m---------------------------------------------------------------------------\u001b[0m",
      "\u001b[1;31mAssertionError\u001b[0m                            Traceback (most recent call last)",
      "\u001b[1;32m<ipython-input-17-53ef842f40ce>\u001b[0m in \u001b[0;36m<module>\u001b[1;34m()\u001b[0m\n\u001b[0;32m      7\u001b[0m \u001b[1;33m\u001b[0m\u001b[0m\n\u001b[0;32m      8\u001b[0m \u001b[0mb\u001b[0m \u001b[1;33m=\u001b[0m \u001b[0mcheckerboard\u001b[0m\u001b[1;33m(\u001b[0m\u001b[1;36m5\u001b[0m\u001b[1;33m)\u001b[0m\u001b[1;33m\u001b[0m\u001b[0m\n\u001b[1;32m----> 9\u001b[1;33m \u001b[1;32massert\u001b[0m \u001b[0mb\u001b[0m\u001b[1;33m[\u001b[0m\u001b[1;36m0\u001b[0m\u001b[1;33m,\u001b[0m\u001b[1;36m0\u001b[0m\u001b[1;33m]\u001b[0m\u001b[1;33m==\u001b[0m\u001b[1;36m1.0\u001b[0m\u001b[1;33m\u001b[0m\u001b[0m\n\u001b[0m\u001b[0;32m     10\u001b[0m \u001b[1;32massert\u001b[0m \u001b[0mb\u001b[0m\u001b[1;33m.\u001b[0m\u001b[0msum\u001b[0m\u001b[1;33m(\u001b[0m\u001b[1;33m)\u001b[0m\u001b[1;33m==\u001b[0m\u001b[1;36m13.0\u001b[0m\u001b[1;33m\u001b[0m\u001b[0m\n\u001b[0;32m     11\u001b[0m \u001b[1;32massert\u001b[0m \u001b[0mnp\u001b[0m\u001b[1;33m.\u001b[0m\u001b[0mall\u001b[0m\u001b[1;33m(\u001b[0m\u001b[0mb\u001b[0m\u001b[1;33m.\u001b[0m\u001b[0mravel\u001b[0m\u001b[1;33m(\u001b[0m\u001b[1;33m)\u001b[0m\u001b[1;33m[\u001b[0m\u001b[1;36m0\u001b[0m\u001b[1;33m:\u001b[0m\u001b[1;36m26\u001b[0m\u001b[1;33m:\u001b[0m\u001b[1;36m2\u001b[0m\u001b[1;33m]\u001b[0m\u001b[1;33m==\u001b[0m\u001b[1;36m1.0\u001b[0m\u001b[1;33m)\u001b[0m\u001b[1;33m\u001b[0m\u001b[0m\n",
      "\u001b[1;31mAssertionError\u001b[0m: "
     ]
    }
   ],
   "source": [
    "# a = checkerboard(4)\n",
    "# assert a[0,0]==1.0\n",
    "# assert a.sum()==8.0\n",
    "# assert a.dtype==np.dtype(float)\n",
    "# assert np.all(a[0,0:5:2]==1.0)\n",
    "# assert np.all(a[1,0:5:2]==0.0)\n",
    "\n",
    "b = checkerboard(5)\n",
    "assert b[0,0]==1.0\n",
    "assert b.sum()==13.0\n",
    "assert np.all(b.ravel()[0:26:2]==1.0)\n",
    "assert np.all(b.ravel()[1:25:2]==0.0)"
   ]
  },
  {
   "cell_type": "markdown",
   "metadata": {
    "nbgrader": {}
   },
   "source": [
    "Use `vizarray` to visualize a checkerboard of `size=20` with a block size of `10px`."
   ]
  },
  {
   "cell_type": "code",
   "execution_count": null,
   "metadata": {
    "collapsed": false,
    "deletable": false,
    "nbgrader": {
     "checksum": "6cff4e8e53b15273846c3aecaea84a3d",
     "solution": true
    }
   },
   "outputs": [],
   "source": [
    "# YOUR CODE HERE\n",
    "raise NotImplementedError()"
   ]
  },
  {
   "cell_type": "code",
   "execution_count": null,
   "metadata": {
    "collapsed": true,
    "deletable": false,
    "nbgrader": {
     "checksum": "e2b72320a52fdce32f4c88bdaa78a92a",
     "grade": true,
     "grade_id": "numpyex01b",
     "points": 2
    }
   },
   "outputs": [],
   "source": [
    "assert True"
   ]
  },
  {
   "cell_type": "markdown",
   "metadata": {
    "nbgrader": {}
   },
   "source": [
    "Use `vizarray` to visualize a checkerboard of `size=27` with a block size of `5px`."
   ]
  },
  {
   "cell_type": "code",
   "execution_count": null,
   "metadata": {
    "collapsed": false,
    "deletable": false,
    "nbgrader": {
     "checksum": "6cff4e8e53b15273846c3aecaea84a3d",
     "solution": true
    }
   },
   "outputs": [],
   "source": [
    "# YOUR CODE HERE\n",
    "raise NotImplementedError()"
   ]
  },
  {
   "cell_type": "code",
   "execution_count": null,
   "metadata": {
    "collapsed": true,
    "deletable": false,
    "nbgrader": {
     "checksum": "1f1c7ef9e0b2d19d4290ed461d43ff2c",
     "grade": true,
     "grade_id": "numpyex01c",
     "points": 2
    }
   },
   "outputs": [],
   "source": [
    "assert True"
   ]
  },
  {
   "cell_type": "code",
   "execution_count": 4,
   "metadata": {
    "collapsed": false
   },
   "outputs": [],
   "source": [
    "def checkerboard(w, h) :\n",
    "    re = np.r_[ w*[0,1] ]\n",
    "    ro = np.r_[ w*[1,0] ]\n",
    "    return np.row_stack(h*(re, ro))\n",
    "\n",
    "\n",
    "AB = checkerboard(5, 10)"
   ]
  },
  {
   "cell_type": "code",
   "execution_count": 8,
   "metadata": {
    "collapsed": true
   },
   "outputs": [],
   "source": [
    "va.enable()"
   ]
  },
  {
   "cell_type": "code",
   "execution_count": 29,
   "metadata": {
    "collapsed": false,
    "scrolled": true
   },
   "outputs": [
    {
     "name": "stdout",
     "output_type": "stream",
     "text": [
      "[[0 1]\n",
      " [0 1]\n",
      " [1 0]\n",
      " [1 0]]\n"
     ]
    }
   ],
   "source": [
    "def gen_checkerboard(size):\n",
    "    even = 1 * [0,1]\n",
    "    odd = 1* [1,0]\n",
    "    checkerboard = np.row_stack(size/2*(even, odd))\n",
    "    return checkerboard.repeat(size, axis = 0)\n",
    "print (gen_checkerboard(2))"
   ]
  },
  {
   "cell_type": "code",
   "execution_count": null,
   "metadata": {
    "collapsed": true
   },
   "outputs": [],
   "source": []
  }
 ],
 "metadata": {
  "kernelspec": {
   "display_name": "Python 2",
   "language": "python",
   "name": "python2"
  },
  "language_info": {
   "codemirror_mode": {
    "name": "ipython",
    "version": 2
   },
   "file_extension": ".py",
   "mimetype": "text/x-python",
   "name": "python",
   "nbconvert_exporter": "python",
   "pygments_lexer": "ipython2",
   "version": "2.7.6"
  }
 },
 "nbformat": 4,
 "nbformat_minor": 0
}
