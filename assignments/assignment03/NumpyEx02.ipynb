{
 "cells": [
  {
   "cell_type": "markdown",
   "metadata": {
    "nbgrader": {}
   },
   "source": [
    "# Numpy Exercise 2"
   ]
  },
  {
   "cell_type": "markdown",
   "metadata": {
    "nbgrader": {}
   },
   "source": [
    "## Imports"
   ]
  },
  {
   "cell_type": "code",
   "execution_count": null,
   "metadata": {
    "collapsed": true,
    "nbgrader": {}
   },
   "outputs": [],
   "source": [
    "import numpy as np\n",
    "%matplotlib inline\n",
    "import matplotlib.pyplot as plt\n",
    "import seaborn as sns"
   ]
  },
  {
   "cell_type": "markdown",
   "metadata": {
    "nbgrader": {}
   },
   "source": [
    "## Factorial"
   ]
  },
  {
   "cell_type": "markdown",
   "metadata": {
    "nbgrader": {}
   },
   "source": [
    "Write a function that computes the factorial of small numbers using `np.arange` and `np.cumprod`."
   ]
  },
  {
   "cell_type": "code",
   "execution_count": null,
   "metadata": {
    "collapsed": false,
    "nbgrader": {
     "checksum": "4e72a0f70d32914a77d8d31ae0c2fb5a",
     "solution": true
    }
   },
   "outputs": [],
   "source": [
    "def np_fact(n):\n",
    "    \"\"\"Compute n! = n*(n-1)*...*1 using Numpy.\"\"\"\n",
    "    # YOUR CODE HERE\n",
    "    raise NotImplementedError()"
   ]
  },
  {
   "cell_type": "code",
   "execution_count": null,
   "metadata": {
    "collapsed": true,
    "deletable": false,
    "nbgrader": {
     "checksum": "fcb54de452abd89e3b1818a34678d4b4",
     "grade": true,
     "grade_id": "numpyex02a",
     "points": 4
    }
   },
   "outputs": [],
   "source": [
    "assert np_fact(0)==1\n",
    "assert np_fact(1)==1\n",
    "assert np_fact(10)==3628800\n",
    "assert [np_fact(i) for i in range(0,11)]==[1,1,2,6,24,120,720,5040,40320,362880,3628800]"
   ]
  },
  {
   "cell_type": "markdown",
   "metadata": {
    "nbgrader": {}
   },
   "source": [
    "Write a function that computes the factorial of small numbers using a Python loop."
   ]
  },
  {
   "cell_type": "code",
   "execution_count": null,
   "metadata": {
    "collapsed": true,
    "nbgrader": {
     "checksum": "9341aa5eb68a3ce57e5cce1cd9192021",
     "solution": true
    }
   },
   "outputs": [],
   "source": [
    "def loop_fact(n):\n",
    "    \"\"\"Compute n! using a Python for loop.\"\"\"\n",
    "    # YOUR CODE HERE\n",
    "    raise NotImplementedError()"
   ]
  },
  {
   "cell_type": "code",
   "execution_count": null,
   "metadata": {
    "collapsed": true,
    "deletable": false,
    "nbgrader": {
     "checksum": "a9946f0fdca1abf66ddfb0454ab10113",
     "grade": true,
     "grade_id": "numpyex02b",
     "points": 4
    }
   },
   "outputs": [],
   "source": [
    "assert loop_fact(0)==1\n",
    "assert loop_fact(1)==1\n",
    "assert loop_fact(10)==3628800\n",
    "assert [loop_fact(i) for i in range(0,11)]==[1,1,2,6,24,120,720,5040,40320,362880,3628800]"
   ]
  },
  {
   "cell_type": "markdown",
   "metadata": {
    "nbgrader": {}
   },
   "source": [
    "Use the `%timeit` magic to time both versions of this function for an argument of `50`. The syntax for `%timeit` is:\n",
    "\n",
    "```python\n",
    "%timeit -n1 -r1 function_to_time()\n",
    "```"
   ]
  },
  {
   "cell_type": "code",
   "execution_count": null,
   "metadata": {
    "collapsed": false,
    "deletable": false,
    "nbgrader": {
     "checksum": "6cff4e8e53b15273846c3aecaea84a3d",
     "solution": true
    },
    "scrolled": true
   },
   "outputs": [],
   "source": [
    "# YOUR CODE HERE\n",
    "raise NotImplementedError()"
   ]
  },
  {
   "cell_type": "markdown",
   "metadata": {
    "nbgrader": {}
   },
   "source": [
    "In the cell below, summarize your timing tests. Which version is faster? Why do you think that version is faster?"
   ]
  },
  {
   "cell_type": "markdown",
   "metadata": {
    "deletable": false,
    "nbgrader": {
     "checksum": "84e52188175a63ea7106817b9b063eef",
     "grade": true,
     "grade_id": "numpyex02c",
     "points": 2,
     "solution": true
    }
   },
   "source": [
    "YOUR ANSWER HERE"
   ]
  }
 ],
 "metadata": {
  "kernelspec": {
   "display_name": "Python 2",
   "language": "python",
   "name": "python2"
  },
  "language_info": {
   "codemirror_mode": {
    "name": "ipython",
    "version": 2
   },
   "file_extension": ".py",
   "mimetype": "text/x-python",
   "name": "python",
   "nbconvert_exporter": "python",
   "pygments_lexer": "ipython2",
   "version": "2.7.6"
  }
 },
 "nbformat": 4,
 "nbformat_minor": 0
}