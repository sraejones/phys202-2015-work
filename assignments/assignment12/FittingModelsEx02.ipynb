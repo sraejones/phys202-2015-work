{
 "cells": [
  {
   "cell_type": "markdown",
   "metadata": {
    "nbgrader": {}
   },
   "source": [
    "# Fitting Models Exercise 2"
   ]
  },
  {
   "cell_type": "markdown",
   "metadata": {
    "nbgrader": {}
   },
   "source": [
    "## Imports"
   ]
  },
  {
   "cell_type": "code",
   "execution_count": 1,
   "metadata": {
    "collapsed": true,
    "nbgrader": {}
   },
   "outputs": [],
   "source": [
    "%matplotlib inline\n",
    "import matplotlib.pyplot as plt\n",
    "import numpy as np\n",
    "import scipy.optimize as opt"
   ]
  },
  {
   "cell_type": "markdown",
   "metadata": {
    "nbgrader": {}
   },
   "source": [
    "## Fitting a decaying oscillation"
   ]
  },
  {
   "cell_type": "markdown",
   "metadata": {
    "nbgrader": {}
   },
   "source": [
    "For this problem you are given a raw dataset in the file `decay_osc.npz`. This file contains three arrays:\n",
    "\n",
    "* `tdata`: an array of time values\n",
    "* `ydata`: an array of y values\n",
    "* `dy`: the absolute uncertainties (standard deviations) in y\n",
    "\n",
    "Your job is to fit the following model to this data:\n",
    "\n",
    "$$ y(t) = A e^{-\\lambda t} \\cos{\\omega t + \\delta} $$\n",
    "\n",
    "First, import the data using NumPy and make an appropriately styled error bar plot of the raw data."
   ]
  },
  {
   "cell_type": "code",
   "execution_count": 21,
   "metadata": {
    "collapsed": false,
    "deletable": false,
    "nbgrader": {
     "checksum": "6cff4e8e53b15273846c3aecaea84a3d",
     "solution": true
    }
   },
   "outputs": [],
   "source": [
    "# YOUR CODE HERE\n",
    "# raise NotImplementedError()\n",
    "with np.load('decay_osc.npz') as data:\n",
    "    t = data['tdata']\n",
    "    y = data['ydata']\n",
    "    dy = data['dy']"
   ]
  },
  {
   "cell_type": "code",
   "execution_count": 22,
   "metadata": {
    "collapsed": false
   },
   "outputs": [
    {
     "data": {
      "text/plain": [
       "<matplotlib.text.Text at 0x7f18e4b04358>"
      ]
     },
     "execution_count": 22,
     "metadata": {},
     "output_type": "execute_result"
    },
    {
     "data": {
      "image/png": "[encoded data removed]",
      "text/plain": [
       "<matplotlib.figure.Figure at 0x7f18e4abad30>"
      ]
     },
     "metadata": {},
     "output_type": "display_data"
    }
   ],
   "source": [
    "plt.errorbar(t, y, dy, fmt='.k', ecolor='red')\n",
    "plt.xlabel('t')\n",
    "plt.ylabel('y')\n",
    "plt.box(False)\n",
    "plt.title('Raw data plot with error')"
   ]
  },
  {
   "cell_type": "code",
   "execution_count": 4,
   "metadata": {
    "collapsed": true,
    "deletable": false,
    "nbgrader": {
     "checksum": "8fe685c8222cc4b0b71fde4d0409d50f",
     "grade": true,
     "grade_id": "fittingmodelsex02a",
     "points": 5
    }
   },
   "outputs": [],
   "source": [
    "assert True # leave this to grade the data import and raw data plot"
   ]
  },
  {
   "cell_type": "markdown",
   "metadata": {
    "nbgrader": {}
   },
   "source": [
    "Now, using `curve_fit` to fit this model and determine the estimates and uncertainties for the parameters:\n",
    "\n",
    "* Print the parameters estimates and uncertainties.\n",
    "* Plot the raw and best fit model.\n",
    "* You will likely have to pass an initial guess to `curve_fit` to get a good fit.\n",
    "* Treat the uncertainties in $y$ as *absolute errors* by passing `absolute_sigma=True`. "
   ]
  },
  {
   "cell_type": "code",
   "execution_count": 16,
   "metadata": {
    "collapsed": false,
    "deletable": false,
    "nbgrader": {
     "checksum": "6cff4e8e53b15273846c3aecaea84a3d",
     "solution": true
    }
   },
   "outputs": [],
   "source": [
    "# YOUR CODE HERE\n",
    "# raise NotImplementedError()\n",
    "\n",
    "def model(t, A, l, w, d):\n",
    "    b = np.exp(-l * t)\n",
    "    c = np.cos(w * t)\n",
    "    q = A*b *c + d\n",
    "    return q"
   ]
  },
  {
   "cell_type": "code",
   "execution_count": 17,
   "metadata": {
    "collapsed": false
   },
   "outputs": [],
   "source": [
    "theta_best, theta_cov = opt.curve_fit(model, t, y, absolute_sigma=True)"
   ]
  },
  {
   "cell_type": "code",
   "execution_count": 18,
   "metadata": {
    "collapsed": false
   },
   "outputs": [
    {
     "name": "stdout",
     "output_type": "stream",
     "text": [
      "A = -5.285 +/- 0.520\n",
      "B = 0.071 +/- 0.014\n"
     ]
    }
   ],
   "source": [
    "print('A = {0:.3f} +/- {1:.3f}'.format(theta_best[0], np.sqrt(theta_cov[0,0])))\n",
    "print('B = {0:.3f} +/- {1:.3f}'.format(theta_best[1], np.sqrt(theta_cov[1,1])))"
   ]
  },
  {
   "cell_type": "code",
   "execution_count": 24,
   "metadata": {
    "collapsed": false
   },
   "outputs": [
    {
     "data": {
      "text/plain": [
       "<matplotlib.text.Text at 0x7f18e4b4c7b8>"
      ]
     },
     "execution_count": 24,
     "metadata": {},
     "output_type": "execute_result"
    },
    {
     "data": {
      "image/png": "[encoded data removed]",
      "text/plain": [
       "<matplotlib.figure.Figure at 0x7f18e4b87c18>"
      ]
     },
     "metadata": {},
     "output_type": "display_data"
    }
   ],
   "source": [
    "plt.errorbar(t, y, dy, fmt='.k', ecolor='red')\n",
    "plt.xlabel('t')\n",
    "plt.ylabel('y')\n",
    "plt.box(False)\n",
    "yfit = model(t, theta_best[0], theta_best[1], theta_best[2], theta_best[3])\n",
    "plt.plot(t, yfit)\n",
    "plt.title('Raw data plot with error and best fit')"
   ]
  },
  {
   "cell_type": "code",
   "execution_count": 6,
   "metadata": {
    "collapsed": true,
    "deletable": false,
    "nbgrader": {
     "checksum": "abacc1ad72e3412252e4ed47c8f65897",
     "grade": true,
     "grade_id": "fittingmodelsex02b",
     "points": 5
    }
   },
   "outputs": [],
   "source": [
    "assert True # leave this cell for grading the fit; should include a plot and printout of the parameters+errors"
   ]
  }
 ],
 "metadata": {
  "kernelspec": {
   "display_name": "Python 3",
   "language": "python",
   "name": "python3"
  },
  "language_info": {
   "codemirror_mode": {
    "name": "ipython",
    "version": 3
   },
   "file_extension": ".py",
   "mimetype": "text/x-python",
   "name": "python",
   "nbconvert_exporter": "python",
   "pygments_lexer": "ipython3",
   "version": "3.4.0"
  }
 },
 "nbformat": 4,
 "nbformat_minor": 0
}
