{
 "cells": [
  {
   "cell_type": "markdown",
   "metadata": {
    "nbgrader": {}
   },
   "source": [
    "# Project Euler: Problem 17"
   ]
  },
  {
   "cell_type": "markdown",
   "metadata": {
    "nbgrader": {}
   },
   "source": [
    "https://projecteuler.net/problem=17\n",
    "\n",
    "If the numbers 1 to 5 are written out in words: one, two, three, four, five, then there are 3 + 3 + 5 + 4 + 4 = 19 letters used in total.\n",
    "\n",
    "If all the numbers from 1 to 1000 (one thousand) inclusive were written out in words, how many letters would be used?\n",
    "\n",
    "\n",
    "NOTE: Do not count spaces or hyphens. For example, 342 (three hundred and forty-two) contains 23 letters and 115 (one hundred and fifteen) contains 20 letters. The use of \"and\" when writing out numbers is in compliance with British usage."
   ]
  },
  {
   "cell_type": "markdown",
   "metadata": {
    "nbgrader": {}
   },
   "source": [
    "First write a `number_to_words(n)` function that takes an integer `n` between 1 and 1000 inclusive and returns a list of words for the number as described above"
   ]
  },
  {
   "cell_type": "code",
   "execution_count": 10,
   "metadata": {
    "collapsed": false,
    "nbgrader": {
     "checksum": "790b69a83b63d5a31b5fac1451dd3b54",
     "solution": true
    }
   },
   "outputs": [],
   "source": [
    "def number_to_words(n):\n",
    "    \"\"\"Given a number n between 1-1000 inclusive return a list of words for the number.\"\"\"\n",
    "    # YOUR CODE HERE\n",
    "    # English name of each digit/ place in dictionary\n",
    "    one = {\n",
    "            0: '',\n",
    "            1: 'one',\n",
    "            2: 'two',\n",
    "            3: 'three',\n",
    "            4: 'four',\n",
    "            5: 'five',\n",
    "            6: 'six',\n",
    "            7: 'seven',\n",
    "            8: 'eight',\n",
    "            9: 'nine'\n",
    "    }\n",
    "            \n",
    "    teen = { \n",
    "            10: 'ten',\n",
    "            11: 'eleven',\n",
    "            12: 'twelve',\n",
    "            13: 'thirteen',\n",
    "            14: 'fourteen',\n",
    "            15: 'fifteen',\n",
    "            16: 'sixteen',\n",
    "            17: 'seventeen',\n",
    "            18: 'eighteen',\n",
    "            19: 'nineteen',\n",
    "    }\n",
    "\n",
    "    ten = {\n",
    "            0: '',\n",
    "            2: 'twenty',\n",
    "            3: 'thirty',\n",
    "            4: 'forty',\n",
    "            5: 'fifty',\n",
    "            6: 'sixty',\n",
    "            7: 'seventy',\n",
    "            8: 'eighty',\n",
    "            9: 'ninety'\n",
    "    }\n",
    "    \n",
    "    hundred = {\n",
    "            1: 'onehundred', \n",
    "            2: 'twohundred',\n",
    "            3: 'threehundred', \n",
    "            4: 'fourhundred',\n",
    "            5: 'fivehundred', \n",
    "            6: 'sixhundred',\n",
    "            7: 'sevenhundred', \n",
    "            8: 'eighthundred',\n",
    "            9: 'ninehundred' \n",
    "    }\n",
    "    \n",
    "    hundredand = {\n",
    "            1: 'onehundredand', \n",
    "            2: 'twohundredand',\n",
    "            3: 'threehundredand', \n",
    "            4: 'fourhundredand',\n",
    "            5: 'fivehundredand', \n",
    "            6: 'sixhundredand',\n",
    "            7: 'sevenhundredand', \n",
    "            8: 'eighthundredand',\n",
    "            9: 'ninehundredand' \n",
    "    }\n",
    "\n",
    "    \n",
    "    #return the name of 1-9 as a string\n",
    "    if n in range (0, 10):\n",
    "        return one[n]\n",
    "    \n",
    "    #return the name of 10-19 as a string\n",
    "    elif n in range(10, 20):\n",
    "        return teen[n]\n",
    "    \n",
    "    #return the name of 20-99 as a string\n",
    "    elif n in range (20, 100):\n",
    "        #turn number in to string\n",
    "        a = str(n)\n",
    "        #Call name of first digat from ten list\n",
    "        b = int(a[0])\n",
    "        #Call name of second digat from one list\n",
    "        c = int(a[1])\n",
    "        #return names as linked string\n",
    "        return ten[b] + one[c]\n",
    "    \n",
    "    \n",
    "    #return the name of 100-999 as a string\n",
    "    elif n in range (99, 1000):\n",
    "        #turn number into string\n",
    "        a = str(n)\n",
    "        #if last 2 digits are in teens\n",
    "        if int(a[1]) == 1:\n",
    "            #call name of first digit from hundred list\n",
    "            b = int(a[0])\n",
    "            #call name of last 2 digits from teen list \n",
    "            c = int(a[1:])\n",
    "            #return number as linked string\n",
    "            return hundredand[b] + teen[c]\n",
    "        #If it ends in a double zero\n",
    "        if int(a[1:]) == 0:\n",
    "            b = int(a[0])\n",
    "            return hundred[b]\n",
    "        #If last 2 digits are not in teen or 00\n",
    "        else:\n",
    "            #call name of first digit from hundred list\n",
    "            d = int(a[0])\n",
    "            #Call name of second digat from ten list\n",
    "            e = int(a[1])\n",
    "            #Call name of second digat from one list\n",
    "            f = int(a[2])\n",
    "            return hundredand[d] + ten[e] + one[f]\n",
    "    \n",
    "    #retun onethousan if n = 1000\n",
    "    elif n == 1000:\n",
    "        return 'onethousand'\n",
    "    \n",
    "    #If anything that is not 1 - 1000 is enterd return fail as a string\n",
    "    else:\n",
    "        return 'fail'"
   ]
  },
  {
   "cell_type": "markdown",
   "metadata": {
    "nbgrader": {}
   },
   "source": [
    "Now write a set of `assert` tests for your `number_to_words` function that verifies that it is working as expected."
   ]
  },
  {
   "cell_type": "code",
   "execution_count": 22,
   "metadata": {
    "collapsed": false,
    "deletable": false,
    "nbgrader": {
     "checksum": "6cff4e8e53b15273846c3aecaea84a3d",
     "solution": true
    }
   },
   "outputs": [],
   "source": [
    "# YOUR CODE HERE\n",
    "assert number_to_words(9) == 'nine'\n",
    "assert number_to_words(16) == 'sixteen'\n",
    "assert number_to_words(56) == 'fiftysix'\n",
    "assert number_to_words(200) == 'twohundred'\n",
    "assert number_to_words(315) == 'threehundredandfifteen'\n",
    "assert number_to_words(638) == 'sixhundredandthirtyeight'\n",
    "assert number_to_words(1000) == 'onethousand'"
   ]
  },
  {
   "cell_type": "code",
   "execution_count": 23,
   "metadata": {
    "collapsed": true,
    "deletable": false,
    "nbgrader": {
     "checksum": "2c71c0f9dbe2a57b1ddc17bf544d86ed",
     "grade": true,
     "grade_id": "projecteuler17a",
     "points": 4
    }
   },
   "outputs": [],
   "source": [
    "assert True # use this for grading the number_to_words tests."
   ]
  },
  {
   "cell_type": "markdown",
   "metadata": {
    "nbgrader": {}
   },
   "source": [
    "Now define a `count_letters(n)` that returns the number of letters used to write out the words for all of the the numbers `1` to `n` inclusive."
   ]
  },
  {
   "cell_type": "code",
   "execution_count": 24,
   "metadata": {
    "collapsed": false,
    "nbgrader": {
     "checksum": "be228a805b41eda2b30887a53523f76b",
     "solution": true
    }
   },
   "outputs": [],
   "source": [
    "def count_letters(n):\n",
    "    \"\"\"Count the number of letters used to write out the words for 1-n inclusive.\"\"\"\n",
    "    # YOUR CODE HERe\n",
    "    #Return the length number_to_word as an integer\n",
    "    return int(len(number_to_words(n)))"
   ]
  },
  {
   "cell_type": "markdown",
   "metadata": {
    "nbgrader": {}
   },
   "source": [
    "Now write a set of `assert` tests for your `count_letters` function that verifies that it is working as expected."
   ]
  },
  {
   "cell_type": "code",
   "execution_count": 25,
   "metadata": {
    "collapsed": false,
    "deletable": false,
    "nbgrader": {
     "checksum": "6cff4e8e53b15273846c3aecaea84a3d",
     "solution": true
    }
   },
   "outputs": [],
   "source": [
    "# YOUR CODE HERE\n",
    "assert count_letters(9) == 4\n",
    "assert count_letters(16) == 7\n",
    "assert count_letters(56) == 8\n",
    "assert count_letters(200) == 10\n",
    "assert count_letters(315) == 22\n",
    "assert count_letters(638) == 24\n",
    "assert count_letters(1000) == 11"
   ]
  },
  {
   "cell_type": "code",
   "execution_count": 26,
   "metadata": {
    "collapsed": false,
    "deletable": false,
    "nbgrader": {
     "checksum": "3a06c9610681f0174008f2976e310e0a",
     "grade": true,
     "grade_id": "projecteuler17b",
     "points": 4
    }
   },
   "outputs": [],
   "source": [
    "assert True # use this for gradig the count_letters test."
   ]
  },
  {
   "cell_type": "markdown",
   "metadata": {
    "nbgrader": {}
   },
   "source": [
    "Finally used your `count_letters` function to solve the original question."
   ]
  },
  {
   "cell_type": "code",
   "execution_count": 27,
   "metadata": {
    "collapsed": false,
    "deletable": false,
    "nbgrader": {
     "checksum": "6cff4e8e53b15273846c3aecaea84a3d",
     "solution": true
    }
   },
   "outputs": [
    {
     "name": "stdout",
     "output_type": "stream",
     "text": [
      "21124\n"
     ]
    }
   ],
   "source": [
    "# YOUR CODE HERE\n",
    "n = 0\n",
    "i = 0\n",
    "while n < 1000:\n",
    "    n = n + 1\n",
    "    i = i + count_letters(n)\n",
    "print (i)"
   ]
  },
  {
   "cell_type": "code",
   "execution_count": 17,
   "metadata": {
    "collapsed": true,
    "deletable": false,
    "nbgrader": {
     "checksum": "a136658e13c4f1154caf307a2e852f99",
     "grade": true,
     "grade_id": "projecteuler17c",
     "points": 2
    }
   },
   "outputs": [],
   "source": [
    "assert True # use this for gradig the original sloution."
   ]
  }
 ],
 "metadata": {
  "kernelspec": {
   "display_name": "Python 3",
   "language": "python",
   "name": "python3"
  },
  "language_info": {
   "codemirror_mode": {
    "name": "ipython",
    "version": 3
   },
   "file_extension": ".py",
   "mimetype": "text/x-python",
   "name": "python",
   "nbconvert_exporter": "python",
   "pygments_lexer": "ipython3",
   "version": "3.4.0"
  }
 },
 "nbformat": 4,
 "nbformat_minor": 0
}
