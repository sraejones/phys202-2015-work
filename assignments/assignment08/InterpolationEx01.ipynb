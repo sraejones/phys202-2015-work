{
 "cells": [
  {
   "cell_type": "markdown",
   "metadata": {
    "nbgrader": {}
   },
   "source": [
    "# Interpolation Exercise 1"
   ]
  },
  {
   "cell_type": "code",
   "execution_count": 73,
   "metadata": {
    "collapsed": true,
    "nbgrader": {}
   },
   "outputs": [],
   "source": [
    "%matplotlib inline\n",
    "import matplotlib.pyplot as plt\n",
    "import seaborn as sns\n",
    "import numpy as np"
   ]
  },
  {
   "cell_type": "code",
   "execution_count": 74,
   "metadata": {
    "collapsed": true,
    "nbgrader": {}
   },
   "outputs": [],
   "source": [
    "from scipy.interpolate import interp1d"
   ]
  },
  {
   "cell_type": "markdown",
   "metadata": {
    "nbgrader": {}
   },
   "source": [
    "## 2D trajectory interpolation"
   ]
  },
  {
   "cell_type": "markdown",
   "metadata": {
    "nbgrader": {}
   },
   "source": [
    "The file `trajectory.npz` contains 3 Numpy arrays that describe a 2d trajectory of a particle as a function of time:\n",
    "\n",
    "* `t` which has discrete values of time `t[i]`.\n",
    "* `x` which has values of the x position at those times: `x[i] = x(t[i])`.\n",
    "* `x` which has values of the y position at those times: `y[i] = y(t[i])`.\n",
    "\n",
    "Load those arrays into this notebook and save them as variables `x`, `y` and `t`:"
   ]
  },
  {
   "cell_type": "code",
   "execution_count": 75,
   "metadata": {
    "collapsed": false,
    "deletable": false,
    "nbgrader": {
     "checksum": "6cff4e8e53b15273846c3aecaea84a3d",
     "solution": true
    }
   },
   "outputs": [
    {
     "name": "stdout",
     "output_type": "stream",
     "text": [
      "[ 0.          0.1025641   0.20512821  0.30769231  0.41025641  0.51282051\n",
      "  0.61538462  0.71794872  0.82051282  0.92307692  1.02564103  1.12820513\n",
      "  1.23076923  1.33333333  1.43589744  1.53846154  1.64102564  1.74358974\n",
      "  1.84615385  1.94871795  2.05128205  2.15384615  2.25641026  2.35897436\n",
      "  2.46153846  2.56410256  2.66666667  2.76923077  2.87179487  2.97435897\n",
      "  3.07692308  3.17948718  3.28205128  3.38461538  3.48717949  3.58974359\n",
      "  3.69230769  3.79487179  3.8974359   4.        ]\n",
      "[ 0.          0.46611028  0.77169706  0.85695573  0.72231261  0.42244838\n",
      "  0.04750816 -0.30261323 -0.54388671 -0.62734994 -0.54777832 -0.34071147\n",
      " -0.06970442  0.19209565  0.38094522  0.45732667  0.41334402  0.27159009\n",
      "  0.07659602 -0.11830239 -0.26499214 -0.33195345 -0.31042482 -0.21434785\n",
      " -0.07471184  0.06975958  0.18292364  0.23989085  0.23207351  0.16771697\n",
      "  0.06822291 -0.0384174  -0.12517681 -0.17257156 -0.17273666 -0.13023529\n",
      " -0.05972056  0.018666    0.08480265  0.1235537 ]\n",
      "[ 1.          0.82780523  0.4680027   0.02771914 -0.37648983 -0.64833759\n",
      " -0.73360478 -0.62942591 -0.37999092 -0.06104728  0.241879    0.45555381\n",
      "  0.53591895  0.47612645  0.30460221  0.07458882 -0.15141965 -0.31800988\n",
      " -0.38984117 -0.35841475 -0.24155564 -0.07644546  0.09144496  0.22039082\n",
      "  0.28235041  0.2685551   0.18979566  0.07185125 -0.05233675 -0.15149649\n",
      " -0.20358419 -0.20032746 -0.14792537 -0.0641072   0.02736911  0.10317062\n",
      "  0.14610919  0.14878632  0.11446568  0.0552279 ]\n"
     ]
    }
   ],
   "source": [
    "# YOUR CODE HERE\n",
    "with np.load('trajectory.npz') as data:\n",
    "    t = data['t']\n",
    "    x = data['x']\n",
    "    y = data['y']\n",
    "print(t)\n",
    "print(x)\n",
    "print(y)"
   ]
  },
  {
   "cell_type": "code",
   "execution_count": 76,
   "metadata": {
    "collapsed": false,
    "deletable": false,
    "nbgrader": {
     "checksum": "6d28ef77badc258f64b8e8844ce5329b",
     "grade": true,
     "grade_id": "interpolationex01a",
     "points": 4
    }
   },
   "outputs": [],
   "source": [
    "assert isinstance(x, np.ndarray) and len(x)==40\n",
    "assert isinstance(y, np.ndarray) and len(y)==40\n",
    "assert isinstance(t, np.ndarray) and len(t)==40"
   ]
  },
  {
   "cell_type": "markdown",
   "metadata": {
    "nbgrader": {}
   },
   "source": [
    "Use these arrays to create interpolated functions $x(t)$ and $y(t)$. Then use those functions to create the following arrays:\n",
    "\n",
    "* `newt` which has 200 points between $\\{t_{min},t_{max}\\}$.\n",
    "* `newx` which has the interpolated values of $x(t)$ at those times.\n",
    "* `newy` which has the interpolated values of $y(t)$ at those times."
   ]
  },
  {
   "cell_type": "code",
   "execution_count": 77,
   "metadata": {
    "collapsed": false,
    "deletable": false,
    "nbgrader": {
     "checksum": "6cff4e8e53b15273846c3aecaea84a3d",
     "solution": true
    }
   },
   "outputs": [],
   "source": [
    "# YOUR CODE HERE\n",
    "f = interp1d(t,x)\n",
    "g = interp1d(t,y)\n",
    "newt = np.linspace(np.min(t), np.max(t), 200)\n",
    "newx = f(newt)\n",
    "newy = g(newt)"
   ]
  },
  {
   "cell_type": "code",
   "execution_count": 78,
   "metadata": {
    "collapsed": false,
    "deletable": false,
    "nbgrader": {
     "checksum": "50f3d594bf1df788fd1f281855440611",
     "grade": true,
     "grade_id": "interpolationex01b",
     "points": 4
    }
   },
   "outputs": [],
   "source": [
    "assert newt[0]==t.min()\n",
    "assert newt[-1]==t.max()\n",
    "assert len(newt)==200\n",
    "assert len(newx)==200\n",
    "assert len(newy)==200"
   ]
  },
  {
   "cell_type": "markdown",
   "metadata": {
    "nbgrader": {}
   },
   "source": [
    "Make a parametric plot of $\\{x(t),y(t)\\}$ that shows the interpolated values and the original points:\n",
    "\n",
    "* For the interpolated points, use a solid line.\n",
    "* For the original points, use circles of a different color and no line.\n",
    "* Customize you plot to make it effective and beautiful."
   ]
  },
  {
   "cell_type": "code",
   "execution_count": 90,
   "metadata": {
    "collapsed": false,
    "deletable": false,
    "nbgrader": {
     "checksum": "6cff4e8e53b15273846c3aecaea84a3d",
     "solution": true
    }
   },
   "outputs": [
    {
     "data": {
      "image/png": "[encoded data removed]",
      "text/plain": [
       "<matplotlib.figure.Figure at 0x7f05c50c1a90>"
      ]
     },
     "metadata": {},
     "output_type": "display_data"
    }
   ],
   "source": [
    "# YOUR CODE HERE\n",
    "plt.plot(newx, newy, marker='.', label = 'interplated')\n",
    "plt.plot(x,y, marker='o', label = 'original')\n",
    "plt.legend = True"
   ]
  },
  {
   "cell_type": "code",
   "execution_count": null,
   "metadata": {
    "collapsed": true,
    "deletable": false,
    "nbgrader": {
     "checksum": "e9c74ef21797ed1bbacb14dae973b7aa",
     "grade": true,
     "grade_id": "interpolationex01c",
     "points": 2
    }
   },
   "outputs": [],
   "source": [
    "assert True # leave this to grade the trajectory plot"
   ]
  }
 ],
 "metadata": {
  "kernelspec": {
   "display_name": "Python 3",
   "language": "python",
   "name": "python3"
  },
  "language_info": {
   "codemirror_mode": {
    "name": "ipython",
    "version": 3
   },
   "file_extension": ".py",
   "mimetype": "text/x-python",
   "name": "python",
   "nbconvert_exporter": "python",
   "pygments_lexer": "ipython3",
   "version": "3.4.0"
  }
 },
 "nbformat": 4,
 "nbformat_minor": 0
}
