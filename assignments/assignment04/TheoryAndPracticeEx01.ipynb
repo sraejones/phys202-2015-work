{
 "cells": [
  {
   "cell_type": "markdown",
   "metadata": {
    "nbgrader": {}
   },
   "source": [
    "# Theory and Practice of Visualization Exercise 1"
   ]
  },
  {
   "cell_type": "markdown",
   "metadata": {
    "nbgrader": {}
   },
   "source": [
    "## Imports"
   ]
  },
  {
   "cell_type": "code",
   "execution_count": null,
   "metadata": {
    "collapsed": true,
    "nbgrader": {}
   },
   "outputs": [],
   "source": [
    "from IPython.display import Image"
   ]
  },
  {
   "cell_type": "markdown",
   "metadata": {
    "nbgrader": {}
   },
   "source": [
    "## Graphical excellence and integrity"
   ]
  },
  {
   "cell_type": "markdown",
   "metadata": {
    "nbgrader": {}
   },
   "source": [
    "Find a data-focused visualization on one of the following websites that is a *positive* example of the principles that Tufte describes in *The Visual Display of Quantitative Information*.\n",
    "\n",
    "* [Vox](http://www.vox.com/)\n",
    "* [Upshot](http://www.nytimes.com/upshot/)\n",
    "* [538](http://fivethirtyeight.com/)\n",
    "* [BuzzFeed](http://www.buzzfeed.com/)\n",
    "\n",
    "Upload the image for the visualization to this directory and display the image inline in this notebook."
   ]
  },
  {
   "cell_type": "code",
   "execution_count": null,
   "metadata": {
    "collapsed": true,
    "deletable": false,
    "nbgrader": {
     "checksum": "9c86bcce96065a2133bab497403e3291",
     "grade": true,
     "grade_id": "theorypracticeex01a",
     "points": 2
    }
   },
   "outputs": [],
   "source": [
    "# Add your filename and uncomment the following line:\n",
    "# Image(filename='yourfile.png')"
   ]
  },
  {
   "cell_type": "markdown",
   "metadata": {
    "nbgrader": {}
   },
   "source": [
    "Describe in detail the ways in which the visualization exhibits graphical *integrity* and *excellence*:"
   ]
  },
  {
   "cell_type": "markdown",
   "metadata": {
    "collapsed": true,
    "deletable": false,
    "nbgrader": {
     "checksum": "80145499593a6a8f756ab550388d18ea",
     "grade": true,
     "grade_id": "theorypracticeex01b",
     "points": 8,
     "solution": true
    }
   },
   "source": [
    "YOUR ANSWER HERE"
   ]
  }
 ],
 "metadata": {
  "kernelspec": {
   "display_name": "Python 3",
   "language": "python",
   "name": "python3"
  },
  "language_info": {
   "codemirror_mode": {
    "name": "ipython",
    "version": 3
   },
   "file_extension": ".py",
   "mimetype": "text/x-python",
   "name": "python",
   "nbconvert_exporter": "python",
   "pygments_lexer": "ipython3",
   "version": "3.4.0"
  }
 },
 "nbformat": 4,
 "nbformat_minor": 0
}