{
 "cells": [
  {
   "cell_type": "markdown",
   "metadata": {
    "nbgrader": {}
   },
   "source": [
    "# Matplotlib Exercise 1"
   ]
  },
  {
   "cell_type": "markdown",
   "metadata": {
    "nbgrader": {}
   },
   "source": [
    "## Imports"
   ]
  },
  {
   "cell_type": "code",
   "execution_count": null,
   "metadata": {
    "collapsed": true,
    "nbgrader": {}
   },
   "outputs": [],
   "source": [
    "%matplotlib inline\n",
    "import matplotlib.pyplot as plt\n",
    "import numpy as np"
   ]
  },
  {
   "cell_type": "markdown",
   "metadata": {
    "collapsed": true,
    "nbgrader": {}
   },
   "source": [
    "## Line plot of sunspot data"
   ]
  },
  {
   "cell_type": "markdown",
   "metadata": {
    "nbgrader": {}
   },
   "source": [
    "Download the `.txt` data for the \"Yearly mean total sunspot number [1700 - now]\" from the [SILSO](http://www.sidc.be/silso/datafiles) website. Upload the file to the same directory as this notebook."
   ]
  },
  {
   "cell_type": "code",
   "execution_count": null,
   "metadata": {
    "collapsed": true,
    "deletable": false,
    "nbgrader": {
     "checksum": "7f8ea13f251ef02c216ed08cad6516a7",
     "grade": true,
     "grade_id": "matplotlibex01a",
     "points": 1
    }
   },
   "outputs": [],
   "source": [
    "import os\n",
    "assert os.path.isfile('yearssn.dat')"
   ]
  },
  {
   "cell_type": "markdown",
   "metadata": {
    "nbgrader": {}
   },
   "source": [
    "Use `np.loadtxt` to read the data into a NumPy array called `data`. Then create two new 1d NumPy arrays named `years` and `ssc` that have the sequence of year and sunspot counts."
   ]
  },
  {
   "cell_type": "code",
   "execution_count": null,
   "metadata": {
    "collapsed": true,
    "deletable": false,
    "nbgrader": {
     "checksum": "6cff4e8e53b15273846c3aecaea84a3d",
     "solution": true
    }
   },
   "outputs": [],
   "source": [
    "# YOUR CODE HERE\n",
    "raise NotImplementedError()"
   ]
  },
  {
   "cell_type": "code",
   "execution_count": null,
   "metadata": {
    "collapsed": true,
    "deletable": false,
    "nbgrader": {
     "checksum": "487fbe3f8889876c782a18756175d727",
     "grade": true,
     "grade_id": "matplotlibex01b",
     "points": 1
    }
   },
   "outputs": [],
   "source": [
    "assert len(year)==315\n",
    "assert year.dtype==np.dtype(float)\n",
    "assert len(ssc)==315\n",
    "assert ssc.dtype==np.dtype(float)"
   ]
  },
  {
   "cell_type": "markdown",
   "metadata": {
    "nbgrader": {}
   },
   "source": [
    "Make a line plot showing the sunspot count as a function of year.\n",
    "\n",
    "* Customize your plot to follow Tufte's principles of visualizations.\n",
    "* Adjust the aspect ratio/size so that the steepest slope in your plot is *approximately* 1.\n",
    "* Customize the box, grid, spines and ticks to match the requirements of this data."
   ]
  },
  {
   "cell_type": "code",
   "execution_count": null,
   "metadata": {
    "collapsed": false,
    "deletable": false,
    "nbgrader": {
     "checksum": "6cff4e8e53b15273846c3aecaea84a3d",
     "solution": true
    }
   },
   "outputs": [],
   "source": [
    "# YOUR CODE HERE\n",
    "raise NotImplementedError()"
   ]
  },
  {
   "cell_type": "code",
   "execution_count": null,
   "metadata": {
    "collapsed": true,
    "deletable": false,
    "nbgrader": {
     "checksum": "d7cdb9758e069eb5f0d1c1b4c4f56668",
     "grade": true,
     "grade_id": "matplotlibex01c",
     "points": 3
    }
   },
   "outputs": [],
   "source": [
    "assert True # leave for grading"
   ]
  },
  {
   "cell_type": "markdown",
   "metadata": {
    "nbgrader": {}
   },
   "source": [
    "Describe the choices you have made in building this visualization and how they make it effective."
   ]
  },
  {
   "cell_type": "markdown",
   "metadata": {
    "deletable": false,
    "nbgrader": {
     "checksum": "89c49052b770b981791536f5c2b07e13",
     "grade": true,
     "grade_id": "matplotlibex01d",
     "points": 1,
     "solution": true
    }
   },
   "source": [
    "YOUR ANSWER HERE"
   ]
  },
  {
   "cell_type": "markdown",
   "metadata": {
    "nbgrader": {}
   },
   "source": [
    "Now make 4 subplots, one for each century in the data set. This approach works well for this dataset as it allows you to maintain mild slopes while limiting the overall width of the visualization. Perform similar customizations as above:\n",
    "\n",
    "* Customize your plot to follow Tufte's principles of visualizations.\n",
    "* Adjust the aspect ratio/size so that the steepest slope in your plot is *approximately* 1.\n",
    "* Customize the box, grid, spines and ticks to match the requirements of this data."
   ]
  },
  {
   "cell_type": "code",
   "execution_count": null,
   "metadata": {
    "collapsed": false,
    "deletable": false,
    "nbgrader": {
     "checksum": "6cff4e8e53b15273846c3aecaea84a3d",
     "solution": true
    }
   },
   "outputs": [],
   "source": [
    "# YOUR CODE HERE\n",
    "raise NotImplementedError()"
   ]
  },
  {
   "cell_type": "code",
   "execution_count": null,
   "metadata": {
    "collapsed": true,
    "deletable": false,
    "nbgrader": {
     "checksum": "332b489afbabd6c48e3456fb8db4ee88",
     "grade": true,
     "grade_id": "matplotlibex01e",
     "points": 4
    }
   },
   "outputs": [],
   "source": [
    "assert True # leave for grading"
   ]
  }
 ],
 "metadata": {
  "kernelspec": {
   "display_name": "Python 3",
   "language": "python",
   "name": "python3"
  },
  "language_info": {
   "codemirror_mode": {
    "name": "ipython",
    "version": 3
   },
   "file_extension": ".py",
   "mimetype": "text/x-python",
   "name": "python",
   "nbconvert_exporter": "python",
   "pygments_lexer": "ipython3",
   "version": "3.4.0"
  }
 },
 "nbformat": 4,
 "nbformat_minor": 0
}