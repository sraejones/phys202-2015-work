{
 "cells": [
  {
   "cell_type": "markdown",
   "metadata": {},
   "source": [
    "# Ordinary Differential Equations"
   ]
  },
  {
   "cell_type": "markdown",
   "metadata": {},
   "source": [
    "**Learning Objectives:** Understand the numerical solution of ODEs and use `scipy.integrate.odeint` to solve and explore ODEs numerically."
   ]
  },
  {
   "cell_type": "markdown",
   "metadata": {},
   "source": [
    "## Imports"
   ]
  },
  {
   "cell_type": "code",
   "execution_count": 13,
   "metadata": {
    "collapsed": true
   },
   "outputs": [],
   "source": [
    "%matplotlib inline\n",
    "import matplotlib.pyplot as plt\n",
    "import numpy as np\n",
    "import seaborn as sns"
   ]
  },
  {
   "cell_type": "markdown",
   "metadata": {},
   "source": [
    "## Overview of ODEs"
   ]
  },
  {
   "cell_type": "markdown",
   "metadata": {},
   "source": [
    "Many of the equations of Physics, Chemistry, Statistics, Data Science, etc. are *Ordinary Differential Equation* or *ODEs*. An ODE is a differential equation with the form:\n",
    "\n",
    "$$ \\frac{d\\vec{y}}{dt} = \\vec{f}\\left(\\vec{y}(t), t\\right) $$\n",
    "\n",
    "The goal is usually to solve for the $N$ dimensional state vector $\\vec{y}(t)$ at each time $t$ given some initial condition:\n",
    "\n",
    "$$ \\vec{y}(0) = \\vec{y}_0 $$\n",
    "\n",
    "In this case we are using $t$ as the independent variable, which is common when studying differential equations that depend on time. But any independent variable may be used, such as $x$. Solving an ODE numerically usually involves picking a set of $M$ discrete times at which we wish to know the solution:"
   ]
  },
  {
   "cell_type": "code",
   "execution_count": 14,
   "metadata": {
    "collapsed": false
   },
   "outputs": [
    {
     "data": {
      "text/plain": [
       "array([  0.        ,   0.1010101 ,   0.2020202 ,   0.3030303 ,\n",
       "         0.4040404 ,   0.50505051,   0.60606061,   0.70707071,\n",
       "         0.80808081,   0.90909091,   1.01010101,   1.11111111,\n",
       "         1.21212121,   1.31313131,   1.41414141,   1.51515152,\n",
       "         1.61616162,   1.71717172,   1.81818182,   1.91919192,\n",
       "         2.02020202,   2.12121212,   2.22222222,   2.32323232,\n",
       "         2.42424242,   2.52525253,   2.62626263,   2.72727273,\n",
       "         2.82828283,   2.92929293,   3.03030303,   3.13131313,\n",
       "         3.23232323,   3.33333333,   3.43434343,   3.53535354,\n",
       "         3.63636364,   3.73737374,   3.83838384,   3.93939394,\n",
       "         4.04040404,   4.14141414,   4.24242424,   4.34343434,\n",
       "         4.44444444,   4.54545455,   4.64646465,   4.74747475,\n",
       "         4.84848485,   4.94949495,   5.05050505,   5.15151515,\n",
       "         5.25252525,   5.35353535,   5.45454545,   5.55555556,\n",
       "         5.65656566,   5.75757576,   5.85858586,   5.95959596,\n",
       "         6.06060606,   6.16161616,   6.26262626,   6.36363636,\n",
       "         6.46464646,   6.56565657,   6.66666667,   6.76767677,\n",
       "         6.86868687,   6.96969697,   7.07070707,   7.17171717,\n",
       "         7.27272727,   7.37373737,   7.47474747,   7.57575758,\n",
       "         7.67676768,   7.77777778,   7.87878788,   7.97979798,\n",
       "         8.08080808,   8.18181818,   8.28282828,   8.38383838,\n",
       "         8.48484848,   8.58585859,   8.68686869,   8.78787879,\n",
       "         8.88888889,   8.98989899,   9.09090909,   9.19191919,\n",
       "         9.29292929,   9.39393939,   9.49494949,   9.5959596 ,\n",
       "         9.6969697 ,   9.7979798 ,   9.8989899 ,  10.        ])"
      ]
     },
     "execution_count": 14,
     "metadata": {},
     "output_type": "execute_result"
    }
   ],
   "source": [
    "tmax = 10.0 # The max time\n",
    "M = 100     # Use 100 times between [0,tmax]\n",
    "t = np.linspace(0,tmax,M)\n",
    "t"
   ]
  },
  {
   "cell_type": "markdown",
   "metadata": {},
   "source": [
    "It is useful to define the step size $h$ as:\n",
    "\n",
    "$$ h = t_{i+1} - t_i $$"
   ]
  },
  {
   "cell_type": "code",
   "execution_count": 15,
   "metadata": {
    "collapsed": false
   },
   "outputs": [
    {
     "name": "stdout",
     "output_type": "stream",
     "text": [
      "h = 0.10101010101\n"
     ]
    }
   ],
   "source": [
    "h = t[1]-t[0]\n",
    "print(\"h =\", h)"
   ]
  },
  {
   "cell_type": "markdown",
   "metadata": {},
   "source": [
    "The numerical solution of an ODE will then be an $M\\times N$ array $y_{ij}$ such that:\n",
    "\n",
    "$$ \\left[\\vec{y}(t_i)\\right]_j = y_{ij} $$\n",
    "\n",
    "In other words, the rows of the array $y_{ij}$ are the state vectors $\\vec{y}(t_i)$ at times $t_i$. Here is an array of zeros having the right shape for the values of $N$ and $M$ we are using here:"
   ]
  },
  {
   "cell_type": "code",
   "execution_count": 16,
   "metadata": {
    "collapsed": false
   },
   "outputs": [
    {
     "name": "stdout",
     "output_type": "stream",
     "text": [
      "N = 2\n",
      "M = 100\n",
      "y.shape = (100, 2)\n"
     ]
    }
   ],
   "source": [
    "N = 2 # 2d case\n",
    "y = np.zeros((M, N))\n",
    "print(\"N =\", N)\n",
    "print(\"M =\", M)\n",
    "print(\"y.shape =\", y.shape)"
   ]
  },
  {
   "cell_type": "markdown",
   "metadata": {},
   "source": [
    "A numerical ODE solver takes the `i`th row of this array `y[i,:]` and calculates the `i+1`th row `y[i+1,:]`. This process starts with the initial condition `y[0,:]` and continues through all of the times with steps of size $h$. One of the core ideas of numerical ODE solvers is that the error at each step is proportional to $\\mathcal{O}(h^n)$ where $n\\geq1$. Because $h<1$ you can reduce the error by making $h$ smaller (up to a point) or finding an ODE solver with a larger value of $n$.\n",
    "\n",
    "Here are some common numerical algorithms for solving ODEs:\n",
    "\n",
    "1. The [Euler method](http://en.wikipedia.org/wiki/Euler_method), which has an error of $\\mathcal{O}(h)$.\n",
    "2. The [midpoint method](http://en.wikipedia.org/wiki/Midpoint_method), which has an error of $\\mathcal{O}(h^2)$.\n",
    "3. [Runga-Kutta](http://en.wikipedia.org/wiki/Runge%E2%80%93Kutta_methods) methods, \n",
    "   the most common (called *RK4*) of which has an error of $\\mathcal{O}(h^4)$. Because\n",
    "   Runga-Kutta methods are fast and have a small errors, they are one of the most popular\n",
    "   general purpose algorithm for solving ODEs.\n",
    "\n",
    "There are many other specialized methods and tricks for solving ODEs (see [this page](http://en.wikipedia.org/wiki/Numerical_methods_for_ordinary_differential_equations)). One of the most common tricks is to use an adaptive step size, which changes the value of $h$ at each step to make sure the error stays below a certain threshold."
   ]
  },
  {
   "cell_type": "markdown",
   "metadata": {},
   "source": [
    "## Using `scipy.integrate.odeint`"
   ]
  },
  {
   "cell_type": "markdown",
   "metadata": {},
   "source": [
    "SciPy provides a general purpose ODE solver, `scipy.integrate.odeint`, that can handle a wide variety of linear and non-linear multidimensional ODEs."
   ]
  },
  {
   "cell_type": "code",
   "execution_count": 17,
   "metadata": {
    "collapsed": true
   },
   "outputs": [],
   "source": [
    "from scipy.integrate import odeint"
   ]
  },
  {
   "cell_type": "code",
   "execution_count": 18,
   "metadata": {
    "collapsed": false
   },
   "outputs": [],
   "source": [
    "odeint?"
   ]
  },
  {
   "cell_type": "markdown",
   "metadata": {},
   "source": [
    "To show how `odeint` works, we will solve the [Lotka–Volterra equations](http://en.wikipedia.org/wiki/Lotka%E2%80%93Volterra_equation), an example of a *predator-prey* model:\n",
    "\n",
    "$$ \\frac{dx}{dt} = \\alpha x - \\beta x y $$\n",
    "$$ \\frac{dy}{dt} = \\delta x y - \\gamma y $$\n",
    "\n",
    "where:\n",
    "\n",
    "* $x(t)$ is the number of prey.\n",
    "* $y(t)$ is the number of predators.\n",
    "* $\\alpha$ is the natural birth rate of the prey.\n",
    "* $\\gamma$ is the natural death rate of the predators.\n",
    "* $\\beta$ determines the death rate of prey when eaten by predators.\n",
    "* $\\delta$ determines the growth rate of predators when they eat prey. \n",
    "\n",
    "**It is important to note here that $y(t)$ is different from the overall solutions vector $\\vec{y}(t)$. In fact, perhaps confusingly, in this case $\\vec{y}(t)=[x(t),y(t)]$.**\n",
    "\n",
    "To integrate this system of differential equations, we must define a function `derivs` that computes the right-hand-side of the differential equation, $\\vec{f}(\\vec{y}(t), t)$. The signature of this function is set by `odeint` itself:\n",
    "\n",
    "```python\n",
    "def derivs(yvec, t, *args):\n",
    "    ...\n",
    "    return dyvec\n",
    "```\n",
    "\n",
    "* `yvec` will be a 1d NumPy array with $N$ elements that are the values of the solution at\n",
    "  the current time, $\\vec{y}(t)$.\n",
    "* `t` will be the current time.\n",
    "* `*args` will be other arguments, typically parameters in the differential equation.\n",
    "\n",
    "The `derivs` function must return a 1d NumPy array with elements that are the values of the function $\\vec{f}(\\vec{y}(t), t)$."
   ]
  },
  {
   "cell_type": "code",
   "execution_count": 19,
   "metadata": {
    "collapsed": true
   },
   "outputs": [],
   "source": [
    "def derivs(yvec, t, alpha, beta, delta, gamma):\n",
    "    x = yvec[0]\n",
    "    y = yvec[1]\n",
    "    dx = alpha*x - beta*x*y\n",
    "    dy = delta*x*y - gamma*y\n",
    "    return np.array([dx, dy])"
   ]
  },
  {
   "cell_type": "markdown",
   "metadata": {},
   "source": [
    "Here are the parameters and initial condition we will use to solve the differential equation. In this case, our prey variable $x$ is the number of rabbits and the predator variable $y$ is the number of foxes (foxes eat rabbits)."
   ]
  },
  {
   "cell_type": "code",
   "execution_count": 20,
   "metadata": {
    "collapsed": true
   },
   "outputs": [],
   "source": [
    "nfoxes = 10\n",
    "nrabbits = 20\n",
    "ic = np.array([nrabbits, nfoxes])\n",
    "maxt = 20.0\n",
    "alpha = 1.0\n",
    "beta = 0.1\n",
    "delta = 0.1\n",
    "gamma = 1.0"
   ]
  },
  {
   "cell_type": "markdown",
   "metadata": {},
   "source": [
    "Here we call `odeint` with our `derivs` function, initial condition `ic`, array of times `t` and the extra parameters:"
   ]
  },
  {
   "cell_type": "code",
   "execution_count": 21,
   "metadata": {
    "collapsed": false
   },
   "outputs": [],
   "source": [
    "t = np.linspace(0, maxt, int(100*maxt))\n",
    "soln = odeint(derivs, # function to compute the derivatives\n",
    "              ic,     # array of initial conditions\n",
    "              t,      # array of times\n",
    "              args=(alpha, beta, delta, gamma), # extra args\n",
    "              atol=1e-9, rtol=1e-8)             # absolute and relative error tolerances"
   ]
  },
  {
   "cell_type": "markdown",
   "metadata": {},
   "source": [
    "We can plot the componenets of the solution as a function of time as follows:"
   ]
  },
  {
   "cell_type": "code",
   "execution_count": 22,
   "metadata": {
    "collapsed": false
   },
   "outputs": [
    {
     "data": {
      "image/png": "[encoded data removed]",
      "text/plain": [
       "<matplotlib.figure.Figure at 0x7f88dd84ae48>"
      ]
     },
     "metadata": {},
     "output_type": "display_data"
    }
   ],
   "source": [
    "plt.plot(t, soln[:,0], label='rabbits')\n",
    "plt.plot(t, soln[:,1], label='foxes')\n",
    "plt.xlabel('t')\n",
    "plt.ylabel('count')\n",
    "plt.legend();"
   ]
  },
  {
   "cell_type": "markdown",
   "metadata": {},
   "source": [
    "We can also make a parametric plot of $[x(t),y(t)]$:"
   ]
  },
  {
   "cell_type": "code",
   "execution_count": 23,
   "metadata": {
    "collapsed": false
   },
   "outputs": [
    {
     "data": {
      "image/png": "[encoded data removed]",
      "text/plain": [
       "<matplotlib.figure.Figure at 0x7f88dd71b400>"
      ]
     },
     "metadata": {},
     "output_type": "display_data"
    }
   ],
   "source": [
    "plt.plot(soln[:,0], soln[:,1])\n",
    "plt.xlim(0, 25)\n",
    "plt.ylim(0, 25)\n",
    "plt.xlabel('rabbits')\n",
    "plt.ylabel('foxes');"
   ]
  }
 ],
 "metadata": {
  "kernelspec": {
   "display_name": "Python 3",
   "language": "python",
   "name": "python3"
  },
  "language_info": {
   "codemirror_mode": {
    "name": "ipython",
    "version": 3
   },
   "file_extension": ".py",
   "mimetype": "text/x-python",
   "name": "python",
   "nbconvert_exporter": "python",
   "pygments_lexer": "ipython3",
   "version": "3.4.0"
  }
 },
 "nbformat": 4,
 "nbformat_minor": 0
}
